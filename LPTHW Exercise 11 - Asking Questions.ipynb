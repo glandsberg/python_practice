{
 "cells": [
  {
   "cell_type": "code",
   "execution_count": 1,
   "metadata": {},
   "outputs": [
    {
     "name": "stdout",
     "output_type": "stream",
     "text": [
      "How old are you? 24\n",
      "How tall are you? 69 inches\n",
      "How much do you weigh? 145 lbs\n",
      "So, you're 24 old, 69 inches tall and 145 lbs heavy.\n"
     ]
    }
   ],
   "source": [
    "print (\"How old are you?\" , end=' ')\n",
    "age = input()\n",
    "print (\"How tall are you?\" , end=' ')\n",
    "height = input()\n",
    "print (\"How much do you weigh?\" , end=' ')\n",
    "weight = input()\n",
    "\n",
    "print(f\"So, you're {age} old, {height} tall and {weight} heavy.\")"
   ]
  },
  {
   "cell_type": "code",
   "execution_count": 3,
   "metadata": {},
   "outputs": [
    {
     "name": "stdout",
     "output_type": "stream",
     "text": [
      "What is your cat's name? Frida\n"
     ]
    }
   ],
   "source": [
    "print (\"What is your cat's name?\" , end= ' ')\n",
    "name = input()"
   ]
  },
  {
   "cell_type": "code",
   "execution_count": 4,
   "metadata": {},
   "outputs": [
    {
     "name": "stdout",
     "output_type": "stream",
     "text": [
      "What is your roommate's name? Cole\n"
     ]
    }
   ],
   "source": [
    "print (\"What is your roommate's name?\" , end=' ')\n",
    "name = input()"
   ]
  },
  {
   "cell_type": "code",
   "execution_count": null,
   "metadata": {},
   "outputs": [],
   "source": []
  }
 ],
 "metadata": {
  "kernelspec": {
   "display_name": "Python 3",
   "language": "python",
   "name": "python3"
  },
  "language_info": {
   "codemirror_mode": {
    "name": "ipython",
    "version": 3
   },
   "file_extension": ".py",
   "mimetype": "text/x-python",
   "name": "python",
   "nbconvert_exporter": "python",
   "pygments_lexer": "ipython3",
   "version": "3.7.4"
  }
 },
 "nbformat": 4,
 "nbformat_minor": 2
}
