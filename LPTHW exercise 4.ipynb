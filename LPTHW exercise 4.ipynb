{
 "cells": [
  {
   "cell_type": "code",
   "execution_count": 2,
   "metadata": {},
   "outputs": [],
   "source": [
    "cars = 100\n",
    "space_in_a_car = 4.0\n",
    "drivers = 30\n",
    "passengers = 90\n",
    "cars_not_driven = cars - drivers\n",
    "cars_driven = drivers\n",
    "carpool_capacity = cars_driven * space_in_a_car\n",
    "average_passengers_per_car = passengers / cars_driven"
   ]
  },
  {
   "cell_type": "code",
   "execution_count": 3,
   "metadata": {},
   "outputs": [
    {
     "name": "stdout",
     "output_type": "stream",
     "text": [
      "There are 100 cars available.\n"
     ]
    }
   ],
   "source": [
    "print (\"There are\" , cars , \"cars available.\")"
   ]
  },
  {
   "cell_type": "code",
   "execution_count": 4,
   "metadata": {},
   "outputs": [
    {
     "name": "stdout",
     "output_type": "stream",
     "text": [
      "There are only 30 drivers available.\n"
     ]
    }
   ],
   "source": [
    "print (\"There are only\" , drivers, \"drivers available.\")"
   ]
  },
  {
   "cell_type": "code",
   "execution_count": 5,
   "metadata": {},
   "outputs": [
    {
     "name": "stdout",
     "output_type": "stream",
     "text": [
      "There will be 70 empty cars today.\n"
     ]
    }
   ],
   "source": [
    "print (\"There will be\" , cars_not_driven, \"empty cars today.\")"
   ]
  },
  {
   "cell_type": "code",
   "execution_count": 6,
   "metadata": {},
   "outputs": [
    {
     "name": "stdout",
     "output_type": "stream",
     "text": [
      "We can transport 120.0 people today.\n"
     ]
    }
   ],
   "source": [
    "print (\"We can transport\" , carpool_capacity, \"people today.\")"
   ]
  },
  {
   "cell_type": "code",
   "execution_count": 7,
   "metadata": {},
   "outputs": [
    {
     "name": "stdout",
     "output_type": "stream",
     "text": [
      "We have 90 to carpool today.\n"
     ]
    }
   ],
   "source": [
    "print (\"We have\" , passengers, \"to carpool today.\")"
   ]
  },
  {
   "cell_type": "code",
   "execution_count": 8,
   "metadata": {},
   "outputs": [
    {
     "name": "stdout",
     "output_type": "stream",
     "text": [
      "We need to put about 3.0 in each car.\n"
     ]
    }
   ],
   "source": [
    "print (\"We need to put about\", average_passengers_per_car, \"in each car.\")"
   ]
  },
  {
   "cell_type": "code",
   "execution_count": 9,
   "metadata": {},
   "outputs": [],
   "source": [
    "# what does a floating point number mean?\n",
    "# means something was divided"
   ]
  },
  {
   "cell_type": "markdown",
   "metadata": {},
   "source": [
    "Study drill:\n",
    "\n",
    "Traceback (most recent call last):\n",
    "\n",
    " File \"ex4.py\", line 8, in <module>\n",
    " average_passengers_per_car = car_pool_capacity / passenger\n",
    " NameError: name 'car_pool_capacity' is not defined\n",
    "    \n",
    "    \n",
    "Explain this error in your own words. Make sure you use line numbers and explain why\n",
    "\n",
    "-------\n",
    "\n",
    "This error occured because carpool_capacity was defined (as cars_driven * space_in_a_car) but the user made the typo and wrote car_pool_capacity by mistake so the name was not recognized and python thinks it's undefined."
   ]
  },
  {
   "cell_type": "code",
   "execution_count": null,
   "metadata": {},
   "outputs": [],
   "source": []
  }
 ],
 "metadata": {
  "kernelspec": {
   "display_name": "Python 3",
   "language": "python",
   "name": "python3"
  },
  "language_info": {
   "codemirror_mode": {
    "name": "ipython",
    "version": 3
   },
   "file_extension": ".py",
   "mimetype": "text/x-python",
   "name": "python",
   "nbconvert_exporter": "python",
   "pygments_lexer": "ipython3",
   "version": "3.7.4"
  }
 },
 "nbformat": 4,
 "nbformat_minor": 2
}
