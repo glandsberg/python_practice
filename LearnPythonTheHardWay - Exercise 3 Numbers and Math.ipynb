{
 "cells": [
  {
   "cell_type": "markdown",
   "metadata": {},
   "source": [
    "Exercise 5\n",
    "\n",
    "using double quotes \" \" to make a string\n",
    "strings --> can be saved to files, web servers, etc"
   ]
  },
  {
   "cell_type": "code",
   "execution_count": 1,
   "metadata": {},
   "outputs": [],
   "source": [
    "# using pound for comment"
   ]
  },
  {
   "cell_type": "code",
   "execution_count": 2,
   "metadata": {},
   "outputs": [],
   "source": [
    "x = \"Run this\""
   ]
  },
  {
   "cell_type": "code",
   "execution_count": 3,
   "metadata": {},
   "outputs": [
    {
     "name": "stdout",
     "output_type": "stream",
     "text": [
      "Run this\n"
     ]
    }
   ],
   "source": [
    "print(x)"
   ]
  },
  {
   "cell_type": "code",
   "execution_count": 4,
   "metadata": {},
   "outputs": [],
   "source": [
    "x = \"Run This\" # haha"
   ]
  },
  {
   "cell_type": "code",
   "execution_count": 5,
   "metadata": {},
   "outputs": [
    {
     "name": "stdout",
     "output_type": "stream",
     "text": [
      "Run This\n"
     ]
    }
   ],
   "source": [
    "print(x)"
   ]
  },
  {
   "cell_type": "code",
   "execution_count": 3,
   "metadata": {},
   "outputs": [],
   "source": [
    "# OKay we just learned a lot from experience and \n",
    "#crashing and re starting the terminal to read the beginning \n",
    "# of the book's setup and it is the same \n",
    "\n",
    "# continuing to use comments - keep them short"
   ]
  },
  {
   "cell_type": "code",
   "execution_count": 4,
   "metadata": {},
   "outputs": [
    {
     "name": "stdout",
     "output_type": "stream",
     "text": [
      "I will now count my chickens:\n"
     ]
    }
   ],
   "source": [
    "print (\"I will now count my chickens:\")"
   ]
  },
  {
   "cell_type": "code",
   "execution_count": 7,
   "metadata": {},
   "outputs": [
    {
     "name": "stdout",
     "output_type": "stream",
     "text": [
      "Hens 30.0\n",
      "Roosters 97\n",
      "Now I will count the eggs:\n",
      "6.75\n",
      "Is it true that 3 + 2 < 5 - 7?\n",
      "False\n",
      "What is 3 + 2? 5\n",
      "What is 5 - 7? -2\n",
      "Oh, that's why it's False.\n",
      "How about some more.\n",
      "Is it greater? True\n",
      "Is it greater or equal? True\n",
      "Is it less or equal? False\n"
     ]
    }
   ],
   "source": [
    "print (\"Hens\" , 25 + 30 / 6)\n",
    "print (\"Roosters\" , 100 - 25 * 3 % 4)\n",
    "# printing some words \n",
    "print (\"Now I will count the eggs:\")\n",
    "# using python as a calculator\n",
    "print (3 + 2 + 1 - 5 + 4 % 2 - 1 / 4 + 6)\n",
    "# printing a string\n",
    "print (\"Is it true that 3 + 2 < 5 - 7?\")\n",
    "# printing math\n",
    "print (3 + 2 < 5 - 7)\n",
    "\n",
    "print (\"What is 3 + 2?\" , 3 + 2)\n",
    "\n",
    "print (\"What is 5 - 7?\" , 5 - 7)\n",
    "\n",
    "print (\"Oh, that's why it's False.\")\n",
    "\n",
    "print (\"How about some more.\")\n",
    "\n",
    "print (\"Is it greater?\" , 5 > - 2)\n",
    "print (\"Is it greater or equal?\" , 5 >= -2)\n",
    "print (\"Is it less or equal?\" , 5 <= -2)"
   ]
  },
  {
   "cell_type": "code",
   "execution_count": null,
   "metadata": {},
   "outputs": [],
   "source": []
  }
 ],
 "metadata": {
  "kernelspec": {
   "display_name": "Python 3",
   "language": "python",
   "name": "python3"
  },
  "language_info": {
   "codemirror_mode": {
    "name": "ipython",
    "version": 3
   },
   "file_extension": ".py",
   "mimetype": "text/x-python",
   "name": "python",
   "nbconvert_exporter": "python",
   "pygments_lexer": "ipython3",
   "version": "3.7.4"
  }
 },
 "nbformat": 4,
 "nbformat_minor": 2
}
