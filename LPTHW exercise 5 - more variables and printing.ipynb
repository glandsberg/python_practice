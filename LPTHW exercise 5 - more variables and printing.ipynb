{
 "cells": [
  {
   "cell_type": "code",
   "execution_count": 18,
   "metadata": {},
   "outputs": [],
   "source": [
    "my_name = 'Grace Landsberg'\n",
    "my_age = 24 \n",
    "my_height = 69 # inches\n",
    "my_weight = 145 # lbs\n",
    "my_eyes = \"Green\"\n",
    "my_teeth = \"White\"\n",
    "my_hair = \"Brown\""
   ]
  },
  {
   "cell_type": "code",
   "execution_count": 14,
   "metadata": {},
   "outputs": [
    {
     "name": "stdout",
     "output_type": "stream",
     "text": [
      "Grace Landsberg\n"
     ]
    }
   ],
   "source": [
    "print (my_name)"
   ]
  },
  {
   "cell_type": "code",
   "execution_count": 15,
   "metadata": {},
   "outputs": [
    {
     "name": "stdout",
     "output_type": "stream",
     "text": [
      "Let's talk about my_name\n"
     ]
    }
   ],
   "source": [
    "print (\"Let's talk about my_name\")"
   ]
  },
  {
   "cell_type": "code",
   "execution_count": 16,
   "metadata": {},
   "outputs": [
    {
     "name": "stdout",
     "output_type": "stream",
     "text": [
      "Let's talk about Grace Landsberg.\n"
     ]
    }
   ],
   "source": [
    "print (\"Let's talk about %s.\" % my_name)"
   ]
  },
  {
   "cell_type": "code",
   "execution_count": 17,
   "metadata": {},
   "outputs": [
    {
     "ename": "SyntaxError",
     "evalue": "invalid syntax (<ipython-input-17-7bcbd4c68b1d>, line 1)",
     "output_type": "error",
     "traceback": [
      "\u001b[0;36m  File \u001b[0;32m\"<ipython-input-17-7bcbd4c68b1d>\"\u001b[0;36m, line \u001b[0;32m1\u001b[0m\n\u001b[0;31m    print (\"Let's talk about %s\") % my_name)\u001b[0m\n\u001b[0m                                           ^\u001b[0m\n\u001b[0;31mSyntaxError\u001b[0m\u001b[0;31m:\u001b[0m invalid syntax\n"
     ]
    }
   ],
   "source": [
    "print (\"Let's talk about %s\") % my_name)"
   ]
  },
  {
   "cell_type": "markdown",
   "metadata": {},
   "source": [
    "that doesn't work!! ^^ remember to keep the % sign on the inside of the parenthese otherwise the command doesn't work"
   ]
  },
  {
   "cell_type": "code",
   "execution_count": 19,
   "metadata": {},
   "outputs": [
    {
     "name": "stdout",
     "output_type": "stream",
     "text": [
      "She's 69 inches tall.\n"
     ]
    }
   ],
   "source": [
    "print (\"She's %d inches tall.\" % my_height)"
   ]
  },
  {
   "cell_type": "code",
   "execution_count": 20,
   "metadata": {},
   "outputs": [
    {
     "name": "stdout",
     "output_type": "stream",
     "text": [
      "She's 145 pounds heavy.\n"
     ]
    }
   ],
   "source": [
    "print (\"She's %d pounds heavy.\" % my_weight)"
   ]
  },
  {
   "cell_type": "code",
   "execution_count": 21,
   "metadata": {},
   "outputs": [
    {
     "name": "stdout",
     "output_type": "stream",
     "text": [
      "Actually that's not too heavy.\n"
     ]
    }
   ],
   "source": [
    "print (\"Actually that's not too heavy.\")"
   ]
  },
  {
   "cell_type": "code",
   "execution_count": 25,
   "metadata": {},
   "outputs": [
    {
     "name": "stdout",
     "output_type": "stream",
     "text": [
      "She's got Green eyes and Brown hair.\n"
     ]
    }
   ],
   "source": [
    "print (\"She's got %s eyes and %s hair.\" %(my_eyes, my_hair))"
   ]
  },
  {
   "cell_type": "code",
   "execution_count": 27,
   "metadata": {},
   "outputs": [
    {
     "name": "stdout",
     "output_type": "stream",
     "text": [
      "Her teeth are usually White depending on the coffee.\n"
     ]
    }
   ],
   "source": [
    "print (\"Her teeth are usually %s depending on the coffee.\" % my_teeth)"
   ]
  },
  {
   "cell_type": "code",
   "execution_count": 29,
   "metadata": {},
   "outputs": [
    {
     "name": "stdout",
     "output_type": "stream",
     "text": [
      "If I add 24, 69, and 145 I get 238.\n"
     ]
    }
   ],
   "source": [
    "print (\"If I add %d, %d, and %d I get %d.\" %(my_age, my_height, my_weight, my_age + my_height + my_weight))"
   ]
  },
  {
   "cell_type": "code",
   "execution_count": 39,
   "metadata": {},
   "outputs": [
    {
     "name": "stdout",
     "output_type": "stream",
     "text": [
      "175.26\n"
     ]
    }
   ],
   "source": [
    "my_height = 69 * 2.54 \n",
    "# now in cm\n",
    "print (my_height)"
   ]
  },
  {
   "cell_type": "code",
   "execution_count": 44,
   "metadata": {},
   "outputs": [
    {
     "name": "stdout",
     "output_type": "stream",
     "text": [
      "She is 175 cm tall.\n"
     ]
    }
   ],
   "source": [
    "print (\"She is %d cm tall.\" % my_height)"
   ]
  },
  {
   "cell_type": "code",
   "execution_count": 46,
   "metadata": {},
   "outputs": [
    {
     "name": "stdout",
     "output_type": "stream",
     "text": [
      "She is 145 lbs.\n"
     ]
    }
   ],
   "source": [
    "print (\"She is %s lbs.\" % my_weight)"
   ]
  },
  {
   "cell_type": "markdown",
   "metadata": {},
   "source": [
    "Be careful about wanting to match the % and % with each other: only the one in the print command needs to have a name. outside the quotes it knows what it is.\n",
    "\n",
    "%s and %d and %r are \"formatters\" - they tell python to take the variable on the right and to put it in to replace the %s with its value"
   ]
  },
  {
   "cell_type": "code",
   "execution_count": null,
   "metadata": {},
   "outputs": [],
   "source": []
  }
 ],
 "metadata": {
  "kernelspec": {
   "display_name": "Python 3",
   "language": "python",
   "name": "python3"
  },
  "language_info": {
   "codemirror_mode": {
    "name": "ipython",
    "version": 3
   },
   "file_extension": ".py",
   "mimetype": "text/x-python",
   "name": "python",
   "nbconvert_exporter": "python",
   "pygments_lexer": "ipython3",
   "version": "3.7.4"
  }
 },
 "nbformat": 4,
 "nbformat_minor": 2
}
